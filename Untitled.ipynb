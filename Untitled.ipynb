{
 "cells": [
  {
   "cell_type": "code",
   "execution_count": 1,
   "id": "86e85794",
   "metadata": {},
   "outputs": [],
   "source": [
    "import chess\n",
    "import chess.pgn\n",
    "import bz2\n",
    "import numpy as np\n",
    "import pandas as pd\n",
    "import math\n",
    "\n",
    "#print(chess_eng.__file__)\n",
    "board = chess.Board()"
   ]
  },
  {
   "cell_type": "code",
   "execution_count": 2,
   "id": "80573854",
   "metadata": {},
   "outputs": [],
   "source": [
    "with bz2.open(\"./lichess_db_standard_rated_2014-10.pgn.bz2\", \"rb\") as f:\n",
    "    data = f.read()\n",
    "data = str(data) # Convert binary data into string for easier functionality\n",
    "raw_games = data.split('[Event') # Split the data into chess games using the '[Event' string"
   ]
  },
  {
   "cell_type": "code",
   "execution_count": 3,
   "id": "2529c089",
   "metadata": {},
   "outputs": [],
   "source": [
    "all_games = []\n",
    "for i in range(len(raw_games)):\n",
    "    if raw_games[i].find('eval') != -1 or raw_games[i].find('1.') == -1:\n",
    "        continue\n",
    "    else:\n",
    "        all_games.append(raw_games[i])"
   ]
  },
  {
   "cell_type": "code",
   "execution_count": 4,
   "id": "e38f8b0a",
   "metadata": {},
   "outputs": [],
   "source": [
    "from tqdm import tqdm as tqdm"
   ]
  },
  {
   "cell_type": "code",
   "execution_count": 5,
   "id": "938b7bb2",
   "metadata": {},
   "outputs": [
    {
     "name": "stderr",
     "output_type": "stream",
     "text": [
      "100%|█████████████████████████████████| 953460/953460 [01:40<00:00, 9500.21it/s]\n"
     ]
    }
   ],
   "source": [
    "PGN_list = []\n",
    "mode_list = []\n",
    "result_list = []\n",
    "avg_rating_list = []\n",
    "rating_diff_list = []\n",
    "termination_list = []\n",
    "for game in tqdm(all_games):\n",
    "    # PGN\n",
    "    try:\n",
    "        index = game.find(\"1. \") + 2\n",
    "        while True:\n",
    "            if game[index:index+2] == '0-' or game[index:index+2] == '1-' or game[index:index+2] == '1/':\n",
    "                # Game termination\n",
    "                break\n",
    "            index += 1\n",
    "\n",
    "        PGN_list.append(game[game.find(\"1.\"):index-1])\n",
    "\n",
    "        # Mode\n",
    "        index = game.find(\"d\") + 2\n",
    "        s = \"\"\n",
    "        while True:\n",
    "            if game[index] == \" \":\n",
    "                break\n",
    "            s += game[index]\n",
    "            index += 1\n",
    "        mode_list.append(s)\n",
    "\n",
    "        # Result\n",
    "        index = game.find('Result')+8\n",
    "        result = game[index:index+2]\n",
    "        if result == \"1-\":\n",
    "            result_list.append(\"White Wins\")\n",
    "        elif result == \"0-\":\n",
    "            result_list.append(\"Black Wins\")\n",
    "        elif result == \"1/\":\n",
    "            result_list.append(\"Draw\")\n",
    "\n",
    "        # Rating\n",
    "        wIndex = game.find('WhiteElo') + 10\n",
    "        bIndex = game.find('BlackElo') + 10\n",
    "        wString = \"\"\n",
    "        while True:\n",
    "            # Use a loop in case there's a rating <1000\n",
    "            if game[wIndex] == '\"':\n",
    "                break\n",
    "            wString += game[wIndex]\n",
    "            wIndex += 1\n",
    "\n",
    "        bString = \"\"\n",
    "        while True:\n",
    "            if game[bIndex] == '\"':\n",
    "                break\n",
    "            bString += game[bIndex]\n",
    "            bIndex += 1\n",
    "\n",
    "        wRating = int(wString)\n",
    "        bRating = int(bString)\n",
    "        avg_rating_list.append(math.ceil((wRating+bRating)/2))\n",
    "        rating_diff_list.append(wRating-bRating)\n",
    "\n",
    "        # Termination\n",
    "        index = game.find(\"[Termination\")\n",
    "        quotes = 0\n",
    "        s = \"\"\n",
    "        while quotes < 2:\n",
    "            if game[index] == '\"':\n",
    "                quotes += 1\n",
    "            elif quotes == 1:\n",
    "                s += game[index]\n",
    "            index += 1\n",
    "\n",
    "        termination_list.append(s)\n",
    "    except:\n",
    "        continue"
   ]
  },
  {
   "cell_type": "code",
   "execution_count": 6,
   "id": "b5a608ec",
   "metadata": {},
   "outputs": [],
   "source": [
    "x = ' '.join(PGN_list)\n",
    "x = set(x.split(' '))"
   ]
  },
  {
   "cell_type": "code",
   "execution_count": 9,
   "id": "a516f52e",
   "metadata": {},
   "outputs": [
    {
     "data": {
      "text/plain": [
       "10693"
      ]
     },
     "execution_count": 9,
     "metadata": {},
     "output_type": "execute_result"
    }
   ],
   "source": [
    "len(x)"
   ]
  },
  {
   "cell_type": "code",
   "execution_count": 36,
   "id": "de7c0d6d",
   "metadata": {},
   "outputs": [],
   "source": [
    "import io\n",
    "pgn = io.StringIO(\"1. d4 e6 2. c4 d5 3. Nc3 dxc4 4. e4 c6 5. Bxc4 Nf6 6. e5 Nd5 7. Nxd5 cxd5 8. Bb3 a6 9. f4 Nc6 10. Nf3 b5 11. Be3 Bb7 12. O-O Na5 13. Bc2 Nc4 14. Bc1 Be7 15. Qd3 O-O 16. Qxh7#\")\n",
    "#print(PGN_list[0])\n",
    "game = chess.pgn.read_game(pgn)"
   ]
  },
  {
   "cell_type": "code",
   "execution_count": 37,
   "id": "2af1498c",
   "metadata": {
    "scrolled": true
   },
   "outputs": [],
   "source": [
    "board = game.board()\n",
    "i = 0\n",
    "for move in game.mainline_moves():\n",
    "    board.push(move)\n",
    "    '''i += 1\n",
    "    print(board)\n",
    "    print()\n",
    "    if i == 15:\n",
    "        break'''"
   ]
  },
  {
   "cell_type": "code",
   "execution_count": 38,
   "id": "a692b6ac",
   "metadata": {},
   "outputs": [
    {
     "name": "stdout",
     "output_type": "stream",
     "text": [
      "r . . q . r k .\n",
      ". b . . b p p Q\n",
      "p . . . p . . .\n",
      ". p . p P . . .\n",
      ". . n P . P . .\n",
      ". . . . . N . .\n",
      "P P B . . . P P\n",
      "R . B . . R K .\n"
     ]
    }
   ],
   "source": [
    "print(board)"
   ]
  },
  {
   "cell_type": "code",
   "execution_count": null,
   "id": "18a377f2",
   "metadata": {},
   "outputs": [],
   "source": []
  }
 ],
 "metadata": {
  "kernelspec": {
   "display_name": "Python 3.9.9 ('deep_learning_torch')",
   "language": "python",
   "name": "python3"
  },
  "language_info": {
   "codemirror_mode": {
    "name": "ipython",
    "version": 3
   },
   "file_extension": ".py",
   "mimetype": "text/x-python",
   "name": "python",
   "nbconvert_exporter": "python",
   "pygments_lexer": "ipython3",
   "version": "3.9.9"
  },
  "vscode": {
   "interpreter": {
    "hash": "271ef7118310132078244efc2345dc913f8fb93edc49b1146e4049c290d1b390"
   }
  }
 },
 "nbformat": 4,
 "nbformat_minor": 5
}
